{
 "cells": [
  {
   "cell_type": "markdown",
   "metadata": {},
   "source": [
    "# GeekBrains, Recommendation Systems\n",
    "# Lesson 5 Homework"
   ]
  },
  {
   "cell_type": "markdown",
   "metadata": {},
   "source": [
    "**Импорт библиотек**"
   ]
  },
  {
   "cell_type": "code",
   "execution_count": null,
   "metadata": {},
   "outputs": [],
   "source": [
    "import itertools as it"
   ]
  },
  {
   "cell_type": "code",
   "execution_count": 54,
   "metadata": {},
   "outputs": [],
   "source": [
    "import pandas as pd\n",
    "import numpy as np\n",
    "import matplotlib.pyplot as plt\n",
    "\n",
    "# Для работы с матрицами\n",
    "from scipy.sparse import csr_matrix, coo_matrix\n",
    "\n",
    "# Матричная факторизация\n",
    "from implicit.als import AlternatingLeastSquares\n",
    "from implicit.nearest_neighbours import bm25_weight, tfidf_weight\n",
    "\n",
    "from lightfm import LightFM\n",
    "from lightfm.evaluation import precision_at_k, recall_at_k\n",
    "\n",
    "import optuna\n",
    "\n",
    "# Функции из 1-ого вебинара\n",
    "# from src.metrics import precision_at_k, recall_at_k\n",
    "from utils import prefilter_items\n",
    "\n",
    "\n",
    "%matplotlib inline"
   ]
  },
  {
   "cell_type": "markdown",
   "metadata": {},
   "source": [
    "## Задание 1\n",
    "Прочитать статьи про BPR, WARP loss:\n",
    "- BPR loss - https://towardsdatascience.com/recommender-system-using-bayesian-personalized-ranking-d30e98bba0b9\n",
    "- WARP loss - https://medium.com/@gabrieltseng/intro-to-warp-loss-automatic-differentiation-and-pytorch-b6aa5083187a"
   ]
  },
  {
   "cell_type": "markdown",
   "metadata": {},
   "source": [
    "### Решение Задания 1"
   ]
  },
  {
   "cell_type": "markdown",
   "metadata": {},
   "source": [
    "+"
   ]
  },
  {
   "cell_type": "markdown",
   "metadata": {},
   "source": [
    "## Задание 2\n",
    "Сделать GridSearch текущей модели."
   ]
  },
  {
   "cell_type": "markdown",
   "metadata": {},
   "source": [
    "### Решение Задания 2"
   ]
  },
  {
   "cell_type": "code",
   "execution_count": 42,
   "metadata": {},
   "outputs": [],
   "source": [
    "data = pd.read_csv('../data/retail_train.csv')\n",
    "\n",
    "item_features = pd.read_csv('../data/product.csv')\n",
    "user_features = pd.read_csv('../data/hh_demographic.csv')\n",
    "\n",
    "# column processing\n",
    "item_features.columns = [col.lower() for col in item_features.columns]\n",
    "user_features.columns = [col.lower() for col in user_features.columns]\n",
    "\n",
    "item_features.rename(columns={'product_id': 'item_id'}, inplace=True)\n",
    "user_features.rename(columns={'household_key': 'user_id'}, inplace=True)\n",
    "\n",
    "# train test split\n",
    "test_size_weeks = 3\n",
    "\n",
    "data_train = data[data['week_no'] < data['week_no'].max() - test_size_weeks]\n",
    "data_test = data[data['week_no'] >= data['week_no'].max() - test_size_weeks]"
   ]
  },
  {
   "cell_type": "markdown",
   "metadata": {},
   "source": [
    "## 1. Filter items"
   ]
  },
  {
   "cell_type": "code",
   "execution_count": 3,
   "metadata": {},
   "outputs": [
    {
     "name": "stderr",
     "output_type": "stream",
     "text": [
      "D:\\Programming\\GeekBrains\\Term4\\2 - GB_Rec_Systems_2021_05_31\\homework\\lesson5\\utils.py:13: SettingWithCopyWarning: \n",
      "A value is trying to be set on a copy of a slice from a DataFrame.\n",
      "Try using .loc[row_indexer,col_indexer] = value instead\n",
      "\n",
      "See the caveats in the documentation: https://pandas.pydata.org/pandas-docs/stable/user_guide/indexing.html#returning-a-view-versus-a-copy\n",
      "  prices['price'] = data['sales_value'] / data['quantity']\n"
     ]
    },
    {
     "name": "stdout",
     "output_type": "stream",
     "text": [
      "Decreased # items from 86865 to 5001\n"
     ]
    }
   ],
   "source": [
    "# n_items_before = data_train['item_id'].nunique()\n",
    "\n",
    "# data_train_filtered = prefilter_items(data_train, take_n_popular=5000, item_features=item_features)\n",
    "\n",
    "# n_items_after = data_train_filtered['item_id'].nunique()\n",
    "# print('Decreased # items from {} to {}'.format(n_items_before, n_items_after))"
   ]
  },
  {
   "cell_type": "markdown",
   "metadata": {},
   "source": [
    "# 2. Prepare data set"
   ]
  },
  {
   "cell_type": "markdown",
   "metadata": {},
   "source": [
    "## 2.1 Prepare CSR train matrix"
   ]
  },
  {
   "cell_type": "code",
   "execution_count": 43,
   "metadata": {},
   "outputs": [],
   "source": [
    "user_item_matrix = pd.pivot_table(data_train, \n",
    "                                  index='user_id', columns='item_id', \n",
    "                                  values='quantity', # Можно пробоват ьдругие варианты\n",
    "                                  aggfunc='count', \n",
    "                                  fill_value=0\n",
    "                                 )\n",
    "\n",
    "user_item_matrix = user_item_matrix.astype(float) # необходимый тип матрицы для implicit\n",
    "\n",
    "# переведем в формат sparse matrix\n",
    "sparse_user_item = csr_matrix(user_item_matrix)"
   ]
  },
  {
   "cell_type": "markdown",
   "metadata": {},
   "source": [
    "## 2.2 Prepare CSR test matrix"
   ]
  },
  {
   "cell_type": "code",
   "execution_count": 44,
   "metadata": {},
   "outputs": [],
   "source": [
    "data_test = data_test[data_test['item_id'].isin(data_train['item_id'].unique())]\n",
    "\n",
    "test_user_item_matrix = pd.pivot_table(data_test, \n",
    "                                  index='user_id', columns='item_id', \n",
    "                                  values='quantity', # Можно пробоват ьдругие варианты\n",
    "                                  aggfunc='count', \n",
    "                                  fill_value=0\n",
    "                                 )\n",
    "\n",
    "test_user_item_matrix = test_user_item_matrix.astype(float) # необходимый тип матрицы для implicit\n",
    "\n",
    "test_sparse_user_item = csr_matrix(test_user_item_matrix)"
   ]
  },
  {
   "cell_type": "markdown",
   "metadata": {},
   "source": [
    "## 2.3 Prepare ID dicts"
   ]
  },
  {
   "cell_type": "code",
   "execution_count": 45,
   "metadata": {},
   "outputs": [],
   "source": [
    "userids = user_item_matrix.index.values\n",
    "itemids = user_item_matrix.columns.values\n",
    "\n",
    "matrix_userids = np.arange(len(userids))\n",
    "matrix_itemids = np.arange(len(itemids))\n",
    "\n",
    "id_to_itemid = dict(zip(matrix_itemids, itemids))\n",
    "id_to_userid = dict(zip(matrix_userids, userids))\n",
    "\n",
    "itemid_to_id = dict(zip(itemids, matrix_itemids))\n",
    "userid_to_id = dict(zip(userids, matrix_userids))"
   ]
  },
  {
   "cell_type": "markdown",
   "metadata": {},
   "source": [
    "## 3. Prepare user and item features"
   ]
  },
  {
   "cell_type": "code",
   "execution_count": 46,
   "metadata": {},
   "outputs": [
    {
     "data": {
      "text/html": [
       "<div>\n",
       "<style scoped>\n",
       "    .dataframe tbody tr th:only-of-type {\n",
       "        vertical-align: middle;\n",
       "    }\n",
       "\n",
       "    .dataframe tbody tr th {\n",
       "        vertical-align: top;\n",
       "    }\n",
       "\n",
       "    .dataframe thead th {\n",
       "        text-align: right;\n",
       "    }\n",
       "</style>\n",
       "<table border=\"1\" class=\"dataframe\">\n",
       "  <thead>\n",
       "    <tr style=\"text-align: right;\">\n",
       "      <th></th>\n",
       "      <th>age_desc</th>\n",
       "      <th>marital_status_code</th>\n",
       "      <th>income_desc</th>\n",
       "      <th>homeowner_desc</th>\n",
       "      <th>hh_comp_desc</th>\n",
       "      <th>household_size_desc</th>\n",
       "      <th>kid_category_desc</th>\n",
       "    </tr>\n",
       "    <tr>\n",
       "      <th>user_id</th>\n",
       "      <th></th>\n",
       "      <th></th>\n",
       "      <th></th>\n",
       "      <th></th>\n",
       "      <th></th>\n",
       "      <th></th>\n",
       "      <th></th>\n",
       "    </tr>\n",
       "  </thead>\n",
       "  <tbody>\n",
       "    <tr>\n",
       "      <th>1</th>\n",
       "      <td>65+</td>\n",
       "      <td>A</td>\n",
       "      <td>35-49K</td>\n",
       "      <td>Homeowner</td>\n",
       "      <td>2 Adults No Kids</td>\n",
       "      <td>2</td>\n",
       "      <td>None/Unknown</td>\n",
       "    </tr>\n",
       "    <tr>\n",
       "      <th>2</th>\n",
       "      <td>NaN</td>\n",
       "      <td>NaN</td>\n",
       "      <td>NaN</td>\n",
       "      <td>NaN</td>\n",
       "      <td>NaN</td>\n",
       "      <td>NaN</td>\n",
       "      <td>NaN</td>\n",
       "    </tr>\n",
       "  </tbody>\n",
       "</table>\n",
       "</div>"
      ],
      "text/plain": [
       "        age_desc marital_status_code income_desc homeowner_desc  \\\n",
       "user_id                                                           \n",
       "1            65+                   A      35-49K      Homeowner   \n",
       "2            NaN                 NaN         NaN            NaN   \n",
       "\n",
       "             hh_comp_desc household_size_desc kid_category_desc  \n",
       "user_id                                                          \n",
       "1        2 Adults No Kids                   2      None/Unknown  \n",
       "2                     NaN                 NaN               NaN  "
      ]
     },
     "execution_count": 46,
     "metadata": {},
     "output_type": "execute_result"
    }
   ],
   "source": [
    "user_feat = pd.DataFrame(user_item_matrix.index)\n",
    "user_feat = user_feat.merge(user_features, on='user_id', how='left')\n",
    "user_feat.set_index('user_id', inplace=True)\n",
    "user_feat.head(2)"
   ]
  },
  {
   "cell_type": "code",
   "execution_count": 47,
   "metadata": {},
   "outputs": [
    {
     "data": {
      "text/plain": [
       "(2499, 7)"
      ]
     },
     "execution_count": 47,
     "metadata": {},
     "output_type": "execute_result"
    }
   ],
   "source": [
    "user_feat.shape"
   ]
  },
  {
   "cell_type": "code",
   "execution_count": 48,
   "metadata": {
    "scrolled": true
   },
   "outputs": [
    {
     "data": {
      "text/html": [
       "<div>\n",
       "<style scoped>\n",
       "    .dataframe tbody tr th:only-of-type {\n",
       "        vertical-align: middle;\n",
       "    }\n",
       "\n",
       "    .dataframe tbody tr th {\n",
       "        vertical-align: top;\n",
       "    }\n",
       "\n",
       "    .dataframe thead th {\n",
       "        text-align: right;\n",
       "    }\n",
       "</style>\n",
       "<table border=\"1\" class=\"dataframe\">\n",
       "  <thead>\n",
       "    <tr style=\"text-align: right;\">\n",
       "      <th></th>\n",
       "      <th>manufacturer</th>\n",
       "      <th>department</th>\n",
       "      <th>brand</th>\n",
       "      <th>commodity_desc</th>\n",
       "      <th>sub_commodity_desc</th>\n",
       "      <th>curr_size_of_product</th>\n",
       "    </tr>\n",
       "    <tr>\n",
       "      <th>item_id</th>\n",
       "      <th></th>\n",
       "      <th></th>\n",
       "      <th></th>\n",
       "      <th></th>\n",
       "      <th></th>\n",
       "      <th></th>\n",
       "    </tr>\n",
       "  </thead>\n",
       "  <tbody>\n",
       "    <tr>\n",
       "      <th>25671</th>\n",
       "      <td>2</td>\n",
       "      <td>GROCERY</td>\n",
       "      <td>National</td>\n",
       "      <td>FRZN ICE</td>\n",
       "      <td>ICE - CRUSHED/CUBED</td>\n",
       "      <td>22 LB</td>\n",
       "    </tr>\n",
       "    <tr>\n",
       "      <th>26081</th>\n",
       "      <td>2</td>\n",
       "      <td>MISC. TRANS.</td>\n",
       "      <td>National</td>\n",
       "      <td>NO COMMODITY DESCRIPTION</td>\n",
       "      <td>NO SUBCOMMODITY DESCRIPTION</td>\n",
       "      <td></td>\n",
       "    </tr>\n",
       "  </tbody>\n",
       "</table>\n",
       "</div>"
      ],
      "text/plain": [
       "         manufacturer    department     brand            commodity_desc  \\\n",
       "item_id                                                                   \n",
       "25671               2       GROCERY  National                  FRZN ICE   \n",
       "26081               2  MISC. TRANS.  National  NO COMMODITY DESCRIPTION   \n",
       "\n",
       "                  sub_commodity_desc curr_size_of_product  \n",
       "item_id                                                    \n",
       "25671            ICE - CRUSHED/CUBED                22 LB  \n",
       "26081    NO SUBCOMMODITY DESCRIPTION                       "
      ]
     },
     "execution_count": 48,
     "metadata": {},
     "output_type": "execute_result"
    }
   ],
   "source": [
    "item_feat = pd.DataFrame(user_item_matrix.columns)\n",
    "item_feat = item_feat.merge(item_features, on='item_id', how='left')\n",
    "item_feat.set_index('item_id', inplace=True)\n",
    "\n",
    "item_feat.head(2)"
   ]
  },
  {
   "cell_type": "code",
   "execution_count": 49,
   "metadata": {},
   "outputs": [
    {
     "data": {
      "text/plain": [
       "(86865, 6)"
      ]
     },
     "execution_count": 49,
     "metadata": {},
     "output_type": "execute_result"
    }
   ],
   "source": [
    "item_feat.shape"
   ]
  },
  {
   "cell_type": "markdown",
   "metadata": {},
   "source": [
    "## Encoding features"
   ]
  },
  {
   "cell_type": "code",
   "execution_count": 50,
   "metadata": {},
   "outputs": [],
   "source": [
    "user_feat_lightfm = pd.get_dummies(user_feat, columns=user_feat.columns.tolist())\n",
    "item_feat_lightfm = pd.get_dummies(item_feat, columns=item_feat.columns.tolist())"
   ]
  },
  {
   "cell_type": "code",
   "execution_count": 51,
   "metadata": {
    "scrolled": true
   },
   "outputs": [
    {
     "data": {
      "text/html": [
       "<div>\n",
       "<style scoped>\n",
       "    .dataframe tbody tr th:only-of-type {\n",
       "        vertical-align: middle;\n",
       "    }\n",
       "\n",
       "    .dataframe tbody tr th {\n",
       "        vertical-align: top;\n",
       "    }\n",
       "\n",
       "    .dataframe thead th {\n",
       "        text-align: right;\n",
       "    }\n",
       "</style>\n",
       "<table border=\"1\" class=\"dataframe\">\n",
       "  <thead>\n",
       "    <tr style=\"text-align: right;\">\n",
       "      <th></th>\n",
       "      <th>age_desc_19-24</th>\n",
       "      <th>age_desc_25-34</th>\n",
       "      <th>age_desc_35-44</th>\n",
       "      <th>age_desc_45-54</th>\n",
       "      <th>age_desc_55-64</th>\n",
       "      <th>age_desc_65+</th>\n",
       "      <th>marital_status_code_A</th>\n",
       "      <th>marital_status_code_B</th>\n",
       "      <th>marital_status_code_U</th>\n",
       "      <th>income_desc_100-124K</th>\n",
       "      <th>...</th>\n",
       "      <th>hh_comp_desc_Unknown</th>\n",
       "      <th>household_size_desc_1</th>\n",
       "      <th>household_size_desc_2</th>\n",
       "      <th>household_size_desc_3</th>\n",
       "      <th>household_size_desc_4</th>\n",
       "      <th>household_size_desc_5+</th>\n",
       "      <th>kid_category_desc_1</th>\n",
       "      <th>kid_category_desc_2</th>\n",
       "      <th>kid_category_desc_3+</th>\n",
       "      <th>kid_category_desc_None/Unknown</th>\n",
       "    </tr>\n",
       "    <tr>\n",
       "      <th>user_id</th>\n",
       "      <th></th>\n",
       "      <th></th>\n",
       "      <th></th>\n",
       "      <th></th>\n",
       "      <th></th>\n",
       "      <th></th>\n",
       "      <th></th>\n",
       "      <th></th>\n",
       "      <th></th>\n",
       "      <th></th>\n",
       "      <th></th>\n",
       "      <th></th>\n",
       "      <th></th>\n",
       "      <th></th>\n",
       "      <th></th>\n",
       "      <th></th>\n",
       "      <th></th>\n",
       "      <th></th>\n",
       "      <th></th>\n",
       "      <th></th>\n",
       "      <th></th>\n",
       "    </tr>\n",
       "  </thead>\n",
       "  <tbody>\n",
       "    <tr>\n",
       "      <th>1</th>\n",
       "      <td>0</td>\n",
       "      <td>0</td>\n",
       "      <td>0</td>\n",
       "      <td>0</td>\n",
       "      <td>0</td>\n",
       "      <td>1</td>\n",
       "      <td>1</td>\n",
       "      <td>0</td>\n",
       "      <td>0</td>\n",
       "      <td>0</td>\n",
       "      <td>...</td>\n",
       "      <td>0</td>\n",
       "      <td>0</td>\n",
       "      <td>1</td>\n",
       "      <td>0</td>\n",
       "      <td>0</td>\n",
       "      <td>0</td>\n",
       "      <td>0</td>\n",
       "      <td>0</td>\n",
       "      <td>0</td>\n",
       "      <td>1</td>\n",
       "    </tr>\n",
       "    <tr>\n",
       "      <th>2</th>\n",
       "      <td>0</td>\n",
       "      <td>0</td>\n",
       "      <td>0</td>\n",
       "      <td>0</td>\n",
       "      <td>0</td>\n",
       "      <td>0</td>\n",
       "      <td>0</td>\n",
       "      <td>0</td>\n",
       "      <td>0</td>\n",
       "      <td>0</td>\n",
       "      <td>...</td>\n",
       "      <td>0</td>\n",
       "      <td>0</td>\n",
       "      <td>0</td>\n",
       "      <td>0</td>\n",
       "      <td>0</td>\n",
       "      <td>0</td>\n",
       "      <td>0</td>\n",
       "      <td>0</td>\n",
       "      <td>0</td>\n",
       "      <td>0</td>\n",
       "    </tr>\n",
       "  </tbody>\n",
       "</table>\n",
       "<p>2 rows × 41 columns</p>\n",
       "</div>"
      ],
      "text/plain": [
       "         age_desc_19-24  age_desc_25-34  age_desc_35-44  age_desc_45-54  \\\n",
       "user_id                                                                   \n",
       "1                     0               0               0               0   \n",
       "2                     0               0               0               0   \n",
       "\n",
       "         age_desc_55-64  age_desc_65+  marital_status_code_A  \\\n",
       "user_id                                                        \n",
       "1                     0             1                      1   \n",
       "2                     0             0                      0   \n",
       "\n",
       "         marital_status_code_B  marital_status_code_U  income_desc_100-124K  \\\n",
       "user_id                                                                       \n",
       "1                            0                      0                     0   \n",
       "2                            0                      0                     0   \n",
       "\n",
       "         ...  hh_comp_desc_Unknown  household_size_desc_1  \\\n",
       "user_id  ...                                                \n",
       "1        ...                     0                      0   \n",
       "2        ...                     0                      0   \n",
       "\n",
       "         household_size_desc_2  household_size_desc_3  household_size_desc_4  \\\n",
       "user_id                                                                        \n",
       "1                            1                      0                      0   \n",
       "2                            0                      0                      0   \n",
       "\n",
       "         household_size_desc_5+  kid_category_desc_1  kid_category_desc_2  \\\n",
       "user_id                                                                     \n",
       "1                             0                    0                    0   \n",
       "2                             0                    0                    0   \n",
       "\n",
       "         kid_category_desc_3+  kid_category_desc_None/Unknown  \n",
       "user_id                                                        \n",
       "1                           0                               1  \n",
       "2                           0                               0  \n",
       "\n",
       "[2 rows x 41 columns]"
      ]
     },
     "execution_count": 51,
     "metadata": {},
     "output_type": "execute_result"
    }
   ],
   "source": [
    "user_feat_lightfm.head(2)"
   ]
  },
  {
   "cell_type": "markdown",
   "metadata": {},
   "source": [
    "## Init model"
   ]
  },
  {
   "cell_type": "code",
   "execution_count": 56,
   "metadata": {},
   "outputs": [],
   "source": [
    "scores = []"
   ]
  },
  {
   "cell_type": "code",
   "execution_count": 57,
   "metadata": {},
   "outputs": [
    {
     "name": "stderr",
     "output_type": "stream",
     "text": [
      "\u001b[32m[I 2021-06-21 21:27:29,862]\u001b[0m A new study created in memory with name: no-name-dce18a51-8c81-4f1d-a8bd-2ec8a1b9a71f\u001b[0m\n",
      "\u001b[32m[I 2021-06-21 21:40:08,609]\u001b[0m Trial 0 finished with value: 0.0023517883382737637 and parameters: {'components': 57, 'lr': 0.15913248234726596}. Best is trial 0 with value: 0.0023517883382737637.\u001b[0m\n",
      "\u001b[32m[I 2021-06-21 21:50:12,540]\u001b[0m Trial 1 finished with value: 0.000979911768808961 and parameters: {'components': 63, 'lr': 0.43951364743156746}. Best is trial 0 with value: 0.0023517883382737637.\u001b[0m\n",
      "\u001b[32m[I 2021-06-21 21:59:48,874]\u001b[0m Trial 2 finished with value: 0.003821656107902527 and parameters: {'components': 52, 'lr': 0.18044347464537877}. Best is trial 2 with value: 0.003821656107902527.\u001b[0m\n",
      "\u001b[32m[I 2021-06-21 22:07:00,976]\u001b[0m Trial 3 finished with value: 0.0 and parameters: {'components': 37, 'lr': 0.25430400220412014}. Best is trial 2 with value: 0.003821656107902527.\u001b[0m\n",
      "\u001b[32m[I 2021-06-21 22:51:49,355]\u001b[0m Trial 4 finished with value: 0.005291524343192577 and parameters: {'components': 38, 'lr': 0.1297659725069192}. Best is trial 4 with value: 0.005291524343192577.\u001b[0m\n",
      "\u001b[32m[I 2021-06-21 22:59:09,921]\u001b[0m Trial 5 finished with value: 0.0014698677696287632 and parameters: {'components': 36, 'lr': 0.4653079719659102}. Best is trial 4 with value: 0.005291524343192577.\u001b[0m\n",
      "\u001b[32m[I 2021-06-21 23:08:11,192]\u001b[0m Trial 6 finished with value: 0.0 and parameters: {'components': 31, 'lr': 0.013813839634114073}. Best is trial 4 with value: 0.005291524343192577.\u001b[0m\n",
      "\u001b[32m[I 2021-06-21 23:22:42,590]\u001b[0m Trial 7 finished with value: 0.005389515310525894 and parameters: {'components': 60, 'lr': 0.14903320211873416}. Best is trial 7 with value: 0.005389515310525894.\u001b[0m\n",
      "\u001b[32m[I 2021-06-21 23:30:03,804]\u001b[0m Trial 8 finished with value: 0.0007839294848963618 and parameters: {'components': 38, 'lr': 0.4860400066996832}. Best is trial 7 with value: 0.005389515310525894.\u001b[0m\n",
      "\u001b[32m[I 2021-06-21 23:40:04,973]\u001b[0m Trial 9 finished with value: 0.0007839294848963618 and parameters: {'components': 34, 'lr': 0.14487575401387537}. Best is trial 7 with value: 0.005389515310525894.\u001b[0m\n",
      "\u001b[32m[I 2021-06-21 23:45:25,311]\u001b[0m Trial 10 finished with value: 0.0017638412537053227 and parameters: {'components': 18, 'lr': 0.3263708701242289}. Best is trial 7 with value: 0.005389515310525894.\u001b[0m\n",
      "\u001b[32m[I 2021-06-21 23:57:23,652]\u001b[0m Trial 11 finished with value: 0.0006859382847324014 and parameters: {'components': 48, 'lr': 0.015457292538984091}. Best is trial 7 with value: 0.005389515310525894.\u001b[0m\n",
      "\u001b[32m[I 2021-06-22 00:05:01,556]\u001b[0m Trial 12 finished with value: 0.002841744339093566 and parameters: {'components': 24, 'lr': 0.0753546127850883}. Best is trial 7 with value: 0.005389515310525894.\u001b[0m\n",
      "\u001b[32m[I 2021-06-22 00:16:10,533]\u001b[0m Trial 13 finished with value: 0.0017638412537053227 and parameters: {'components': 45, 'lr': 0.09749583968154246}. Best is trial 7 with value: 0.005389515310525894.\u001b[0m\n",
      "\u001b[32m[I 2021-06-22 00:26:59,127]\u001b[0m Trial 14 finished with value: 0.004703576676547527 and parameters: {'components': 63, 'lr': 0.272775344343654}. Best is trial 7 with value: 0.005389515310525894.\u001b[0m\n",
      "\u001b[32m[I 2021-06-22 00:34:02,350]\u001b[0m Trial 15 finished with value: 0.0016658501699566841 and parameters: {'components': 28, 'lr': 0.2051257091969528}. Best is trial 7 with value: 0.005389515310525894.\u001b[0m\n",
      "\u001b[32m[I 2021-06-22 00:45:57,803]\u001b[0m Trial 16 finished with value: 0.002449779538437724 and parameters: {'components': 46, 'lr': 0.08076797470614995}. Best is trial 7 with value: 0.005389515310525894.\u001b[0m\n",
      "\u001b[32m[I 2021-06-22 00:54:42,596]\u001b[0m Trial 17 finished with value: 0.0011758941691368818 and parameters: {'components': 56, 'lr': 0.37439404987300806}. Best is trial 7 with value: 0.005389515310525894.\u001b[0m\n",
      "\u001b[32m[I 2021-06-22 01:05:14,535]\u001b[0m Trial 18 finished with value: 0.005193532910197973 and parameters: {'components': 42, 'lr': 0.11660832762700904}. Best is trial 7 with value: 0.005389515310525894.\u001b[0m\n",
      "\u001b[32m[I 2021-06-22 01:11:12,418]\u001b[0m Trial 19 finished with value: 0.0012738852528855205 and parameters: {'components': 24, 'lr': 0.21262046007871005}. Best is trial 7 with value: 0.005389515310525894.\u001b[0m\n",
      "\u001b[32m[I 2021-06-22 01:21:51,686]\u001b[0m Trial 20 finished with value: 0.002253797370940447 and parameters: {'components': 42, 'lr': 0.04823235975624754}. Best is trial 7 with value: 0.005389515310525894.\u001b[0m\n",
      "\u001b[32m[I 2021-06-22 01:32:44,307]\u001b[0m Trial 21 finished with value: 0.005193532910197973 and parameters: {'components': 42, 'lr': 0.11406864527926534}. Best is trial 7 with value: 0.005389515310525894.\u001b[0m\n",
      "\u001b[32m[I 2021-06-22 01:50:06,747]\u001b[0m Trial 22 finished with value: 0.005193532910197973 and parameters: {'components': 51, 'lr': 0.13052557462894687}. Best is trial 7 with value: 0.005389515310525894.\u001b[0m\n",
      "\u001b[32m[I 2021-06-22 01:59:57,562]\u001b[0m Trial 23 finished with value: 0.002645761938765645 and parameters: {'components': 58, 'lr': 0.21768053241388513}. Best is trial 7 with value: 0.005389515310525894.\u001b[0m\n",
      "\u001b[32m[I 2021-06-22 02:09:05,936]\u001b[0m Trial 24 finished with value: 0.002253797370940447 and parameters: {'components': 33, 'lr': 0.04684574264286581}. Best is trial 7 with value: 0.005389515310525894.\u001b[0m\n"
     ]
    }
   ],
   "source": [
    "def objective(trial):\n",
    "    global scores\n",
    "\n",
    "    # Init\n",
    "    loss = 'warp'\n",
    "    components = trial.suggest_int('components', 16, 64)\n",
    "    lr = trial.suggest_uniform('lr', 0.0001, 0.5)\n",
    "    item_alpha = 0.1\n",
    "    user_alpha = 0.1\n",
    "    model = LightFM(no_components=components,\n",
    "    #                 loss='bpr',\n",
    "                    loss=loss,\n",
    "                    learning_rate=lr, \n",
    "                    item_alpha=item_alpha,\n",
    "                    user_alpha=user_alpha, \n",
    "                    random_state=42)\n",
    "\n",
    "    # Train\n",
    "    model.fit((sparse_user_item > 0) * 1,  # user-item matrix из 0 и 1\n",
    "              sample_weight=coo_matrix(user_item_matrix),\n",
    "              user_features=csr_matrix(user_feat_lightfm.values),\n",
    "              item_features=csr_matrix(item_feat_lightfm.values),\n",
    "              epochs=15, \n",
    "              num_threads=6,\n",
    "              verbose=False)\n",
    "\n",
    "    # Train evaluation\n",
    "    train_precision = precision_at_k(model, sparse_user_item, \n",
    "                                     user_features=csr_matrix(user_feat_lightfm.values),\n",
    "                                     item_features=csr_matrix(item_feat_lightfm.values),\n",
    "                                     k=5).mean()\n",
    "    # Test evaluation\n",
    "    test_precision = precision_at_k(model, csr_matrix(test_user_item_matrix), \n",
    "                                     user_features=csr_matrix(user_feat_lightfm.values),\n",
    "                                     item_features=csr_matrix(item_feat_lightfm.values),\n",
    "                                     k=5).mean()\n",
    "\n",
    "    # Save scores\n",
    "    scores.append({'components': components,\n",
    "                   'lr': lr,\n",
    "                   'train': train_precision,\n",
    "                   'test': test_precision})\n",
    "\n",
    "    return test_precision\n",
    "\n",
    "\n",
    "study = optuna.create_study(direction='maximize')  # Create a new study.\n",
    "study.optimize(objective, n_trials=25)  # Invoke optimization of the objective function."
   ]
  },
  {
   "cell_type": "markdown",
   "metadata": {},
   "source": [
    "Лучшая модель имеет параметры no_components = 60, learning_rate = 0.149."
   ]
  }
 ],
 "metadata": {
  "kernelspec": {
   "display_name": "Python 3 (ipykernel)",
   "language": "python",
   "name": "python3"
  },
  "language_info": {
   "codemirror_mode": {
    "name": "ipython",
    "version": 3
   },
   "file_extension": ".py",
   "mimetype": "text/x-python",
   "name": "python",
   "nbconvert_exporter": "python",
   "pygments_lexer": "ipython3",
   "version": "3.9.12"
  }
 },
 "nbformat": 4,
 "nbformat_minor": 4
}
